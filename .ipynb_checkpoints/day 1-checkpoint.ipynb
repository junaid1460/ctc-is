{
 "cells": [
  {
   "cell_type": "markdown",
   "metadata": {},
   "source": [
    "# Class 10/2/18\n",
    "\n",
    "`Topics :`\n",
    " - Programming languages\n",
    "     - How to switch\n",
    "     - Basic pattern\n",
    " - Python\n",
    "     - what is python\n",
    "     - Syntax\n",
    "     - Data structure\n",
    "         - What it is?\n",
    "         - 1 or 2 Data structures\n"
   ]
  },
  {
   "cell_type": "code",
   "execution_count": 12,
   "metadata": {},
   "outputs": [
    {
     "name": "stdout",
     "output_type": "stream",
     "text": [
      "kundan's age is 9\n"
     ]
    }
   ],
   "source": [
    "AgeOfKundan = 9\n",
    "kundan = AgeOfKundan\n",
    "print(\"kundan's age is\", kundan)"
   ]
  },
  {
   "cell_type": "code",
   "execution_count": 14,
   "metadata": {},
   "outputs": [
    {
     "name": "stdout",
     "output_type": "stream",
     "text": [
      "he is kid\n"
     ]
    }
   ],
   "source": [
    "if 18 >= AgeOfKundan  and AgeOfKundan > 10:\n",
    "    print(\"Kundan is a\", \"teen\")\n",
    "elif AgeOfKundan < 10:\n",
    "    print(\"he is kid\")\n",
    "else:\n",
    "    pass"
   ]
  },
  {
   "cell_type": "code",
   "execution_count": 15,
   "metadata": {},
   "outputs": [
    {
     "data": {
      "text/plain": [
       "[1, 2, 3, 4, 5, 6, 7, 8, 9]"
      ]
     },
     "execution_count": 15,
     "metadata": {},
     "output_type": "execute_result"
    }
   ],
   "source": [
    "list(range(1, 10))"
   ]
  },
  {
   "cell_type": "code",
   "execution_count": 16,
   "metadata": {},
   "outputs": [
    {
     "name": "stdout",
     "output_type": "stream",
     "text": [
      "1\n",
      "2\n",
      "3\n",
      "4\n",
      "5\n",
      "6\n",
      "7\n",
      "8\n",
      "9\n"
     ]
    }
   ],
   "source": [
    "for e in range(1, 10):\n",
    "    print(e)"
   ]
  },
  {
   "cell_type": "code",
   "execution_count": 24,
   "metadata": {},
   "outputs": [
    {
     "name": "stdout",
     "output_type": "stream",
     "text": [
      "10 22\n",
      "10 3\n",
      "10\n"
     ]
    }
   ],
   "source": [
    "def name(x,y= 3):\n",
    "    print(x, y)\n",
    "    return x\n",
    "    \n",
    "name(10, 22) # with value for y\n",
    "print(name(10)) # no value for Y\n",
    "\n",
    "name(65)"
   ]
  },
  {
   "cell_type": "code",
   "execution_count": 45,
   "metadata": {},
   "outputs": [
    {
     "name": "stdout",
     "output_type": "stream",
     "text": [
      "20\n",
      "40\n",
      "80\n"
     ]
    }
   ],
   "source": [
    "class myclass:\n",
    "    abc = 10\n",
    "    def xyz(self):\n",
    "        self.abc *= 2\n",
    "        print(self.abc)\n",
    "        \n",
    "x = myclass()\n",
    "x.xyz()\n",
    "x.xyz()\n",
    "x.xyz()"
   ]
  },
  {
   "cell_type": "code",
   "execution_count": 26,
   "metadata": {},
   "outputs": [
    {
     "data": {
      "text/plain": [
       "{'a', 'b'}"
      ]
     },
     "execution_count": 26,
     "metadata": {},
     "output_type": "execute_result"
    }
   ],
   "source": [
    "set([\"a\", \"b\", \"a\"])"
   ]
  },
  {
   "cell_type": "code",
   "execution_count": null,
   "metadata": {},
   "outputs": [],
   "source": []
  },
  {
   "cell_type": "code",
   "execution_count": 47,
   "metadata": {},
   "outputs": [
    {
     "data": {
      "text/plain": [
       "{'a': 10, 'b': 30}"
      ]
     },
     "execution_count": 47,
     "metadata": {},
     "output_type": "execute_result"
    }
   ],
   "source": [
    "x = dict() # a dictionary\n",
    "x[\"a\"] = 10\n",
    "x[\"b\"] = 34\n",
    "x[\"b\"] = 30\n",
    "x"
   ]
  },
  {
   "cell_type": "code",
   "execution_count": 46,
   "metadata": {},
   "outputs": [
    {
     "data": {
      "text/plain": [
       "['a', 'b', 'c']"
      ]
     },
     "execution_count": 46,
     "metadata": {},
     "output_type": "execute_result"
    }
   ],
   "source": [
    "[\"a\", \"b\",\"c\"] # a list"
   ]
  },
  {
   "cell_type": "code",
   "execution_count": 49,
   "metadata": {},
   "outputs": [
    {
     "data": {
      "text/plain": [
       "{'a': 1, 'e': 1, 'i': 0, 'o': 2, 'u': 0}"
      ]
     },
     "execution_count": 49,
     "metadata": {},
     "output_type": "execute_result"
    }
   ],
   "source": [
    "s = \"hell a o world\"\n",
    "\n",
    "v = set([\"a\", \"e\", \"i\", \"o\", \"u\"])\n",
    "# \n",
    "v = set(list(\"aeiou\")) # list() function creates a list having idividual elements of it's parameter\n",
    "# here list(\"aeiou\") => [\"a\", \"e\", \"i\", \"o\", \"u\"]\n",
    "\n",
    "count = {'a': 0, 'e': 0,'i':0, 'o':0 , 'u':0}\n",
    "for char in s:\n",
    "    #do something\n",
    "    if char in v:\n",
    "        count[char] += 1         \n",
    "count"
   ]
  }
 ],
 "metadata": {
  "kernelspec": {
   "display_name": "Python 3",
   "language": "python",
   "name": "python3"
  },
  "language_info": {
   "codemirror_mode": {
    "name": "ipython",
    "version": 3
   },
   "file_extension": ".py",
   "mimetype": "text/x-python",
   "name": "python",
   "nbconvert_exporter": "python",
   "pygments_lexer": "ipython3",
   "version": "3.6.3"
  },
  "latex_envs": {
   "LaTeX_envs_menu_present": true,
   "autocomplete": true,
   "bibliofile": "biblio.bib",
   "cite_by": "apalike",
   "current_citInitial": 1,
   "eqLabelWithNumbers": true,
   "eqNumInitial": 1,
   "hotkeys": {
    "equation": "Ctrl-E",
    "itemize": "Ctrl-I"
   },
   "labels_anchors": false,
   "latex_user_defs": false,
   "report_style_numbering": false,
   "user_envs_cfg": false
  },
  "toc": {
   "nav_menu": {},
   "number_sections": true,
   "sideBar": true,
   "skip_h1_title": false,
   "toc_cell": false,
   "toc_position": {},
   "toc_section_display": "block",
   "toc_window_display": false
  }
 },
 "nbformat": 4,
 "nbformat_minor": 2
}
